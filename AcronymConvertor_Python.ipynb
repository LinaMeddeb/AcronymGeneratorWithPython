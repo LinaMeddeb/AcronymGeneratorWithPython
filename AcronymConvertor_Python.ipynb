{
 "cells": [
  {
   "cell_type": "code",
   "execution_count": 2,
   "metadata": {},
   "outputs": [
    {
     "name": "stdout",
     "output_type": "stream",
     "text": [
      "Please Tape a phrase: Pussy Cat Dolls\n",
      "The acronyme of Pussy Cat Dolls is PCD\n"
     ]
    }
   ],
   "source": [
    "#adding the user input\n",
    "input_user= input(\"Please Tape a phrase: \")\n",
    "#ignore 'of'\n",
    "clean_input = (input_user.replace('of', ''))\n",
    "# Split words\n",
    "phrase = clean_input.split()\n",
    "#initialization of the acronyme variable\n",
    "acronym=\"\"\n",
    "#iterate throw the phrase variable\n",
    "for w in phrase:\n",
    "        acronym = acronym + w[0].upper()\n",
    "print('The acronyme of ' + input_user + ' is '+ acronym)"
   ]
  },
  {
   "cell_type": "code",
   "execution_count": null,
   "metadata": {},
   "outputs": [],
   "source": []
  }
 ],
 "metadata": {
  "kernelspec": {
   "display_name": "Python 3",
   "language": "python",
   "name": "python3"
  },
  "language_info": {
   "codemirror_mode": {
    "name": "ipython",
    "version": 3
   },
   "file_extension": ".py",
   "mimetype": "text/x-python",
   "name": "python",
   "nbconvert_exporter": "python",
   "pygments_lexer": "ipython3",
   "version": "3.8.5"
  }
 },
 "nbformat": 4,
 "nbformat_minor": 4
}
